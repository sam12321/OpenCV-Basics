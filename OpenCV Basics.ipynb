{
 "cells": [
  {
   "cell_type": "code",
   "execution_count": 1,
   "metadata": {},
   "outputs": [
    {
     "name": "stdout",
     "output_type": "stream",
     "text": [
      "Requirement already satisfied: opencv-contrib-python in c:\\users\\bhavy\\anaconda3\\lib\\site-packages (4.4.0.44)\n",
      "Requirement already satisfied: numpy>=1.14.5 in c:\\users\\bhavy\\anaconda3\\lib\\site-packages (from opencv-contrib-python) (1.18.1)\n"
     ]
    }
   ],
   "source": [
    "#!pip install cv2\n",
    "!pip install opencv-contrib-python\n",
    "import cv2\n",
    "import pandas as pd\n",
    "import numpy as np"
   ]
  },
  {
   "cell_type": "code",
   "execution_count": 2,
   "metadata": {},
   "outputs": [],
   "source": [
    "# getting control of camera\n",
    "cap = cv2.VideoCapture(0)   # 0 means the camera itself"
   ]
  },
  {
   "cell_type": "code",
   "execution_count": 3,
   "metadata": {},
   "outputs": [],
   "source": [
    "# getting width and height\n",
    "width = int(cap.get(cv2.CAP_PROP_FRAME_WIDTH))\n",
    "height = int(cap.get(cv2.CAP_PROP_FRAME_HEIGHT))"
   ]
  },
  {
   "cell_type": "code",
   "execution_count": 4,
   "metadata": {},
   "outputs": [],
   "source": [
    "output = cv2.VideoWriter('myvideo.mkv',cv2.VideoWriter_fourcc(*'DIVX'),20,(width,height))"
   ]
  },
  {
   "cell_type": "code",
   "execution_count": 5,
   "metadata": {},
   "outputs": [],
   "source": [
    "while True:\n",
    "    ret,frame=cap.read()\n",
    "    output.write(frame)\n",
    "    \n",
    "    cv2.imshow('frame',frame)\n",
    "    \n",
    "    if cv2.waitKey(5) & 0xFF ==27 :\n",
    "        break\n",
    "cap.release()\n",
    "output.release()\n",
    "cv2.destroyAllWindows()"
   ]
  },
  {
   "cell_type": "markdown",
   "metadata": {},
   "source": [
    " ### now opening the video file"
   ]
  },
  {
   "cell_type": "code",
   "execution_count": null,
   "metadata": {},
   "outputs": [],
   "source": [
    "import cv2\n",
    "cap2 = cv2.VideoCapture('myvideo.mkv')\n",
    "\n",
    "if cap2.isOpened()==False:\n",
    "    print(\"Error,Check your file!!\")\n",
    "    \n",
    "while cap2.isOpened():\n",
    "    ret,frame = cap2.read()\n",
    "    if ret == True:\n",
    "        # we wrote the file at 20 fps, so we need a 1/20 delay\n",
    "        cv2.imshow('frame',frame)\n",
    "        if cv2.waitKey(15) & 0xFF == 27:\n",
    "            break\n",
    "cap2.release()\n",
    "cv2.destroyAllWindows()\n"
   ]
  },
  {
   "cell_type": "markdown",
   "metadata": {},
   "source": [
    "### drawing on live video"
   ]
  },
  {
   "cell_type": "code",
   "execution_count": 1,
   "metadata": {},
   "outputs": [],
   "source": [
    "import cv2\n",
    "cap = cv2.VideoCapture(0)\n",
    "width = int(cap.get(cv2.CAP_PROP_FRAME_WIDTH))\n",
    "height = int(cap.get(cv2.CAP_PROP_FRAME_HEIGHT))"
   ]
  },
  {
   "cell_type": "code",
   "execution_count": 2,
   "metadata": {},
   "outputs": [],
   "source": [
    "# we divide by //2 to get int as result\n",
    "x = width//2\n",
    "y = height//2\n",
    "\n",
    "# rect width and height is 1/4 of screen\n",
    "w = width//4\n",
    "h = height//4"
   ]
  },
  {
   "cell_type": "code",
   "execution_count": 3,
   "metadata": {},
   "outputs": [],
   "source": [
    "while True:\n",
    "    ret,frame = cap.read()\n",
    "    cv2.rectangle(frame,(x,y),(x+w,y+h),color=(255,0,255),thickness=5)\n",
    "    \n",
    "    cv2.imshow('frame',frame)\n",
    "    if cv2.waitKey(3) & 0xFF == 27:\n",
    "        break\n",
    "        \n",
    "cap.release()\n",
    "cv2.destroyAllWindows()"
   ]
  },
  {
   "cell_type": "markdown",
   "metadata": {},
   "source": [
    "### interactive drawing on live video"
   ]
  },
  {
   "cell_type": "code",
   "execution_count": 4,
   "metadata": {},
   "outputs": [],
   "source": [
    "import cv2"
   ]
  },
  {
   "cell_type": "code",
   "execution_count": 5,
   "metadata": {},
   "outputs": [],
   "source": [
    "def rectangle(event,x,y,flags,params):\n",
    "    global pt1,pt2,top_left_clicked,bottom_right_clicked\n",
    "    if event == cv2.EVENT_LBUTTONDOWN:\n",
    "        if top_left_clicked == True & bottom_right_clicked == True:\n",
    "            pt1=(0,0)\n",
    "            pt2=(0,0)\n",
    "            top_left_clicked=False\n",
    "            bottom_right_clicked=False\n",
    "            \n",
    "    if top_left_clicked==False:\n",
    "        pt1=(x,y)\n",
    "        top_left_clicked=True\n",
    "        \n",
    "    elif bottom_right_clicked==False:\n",
    "        pt2=(x,y)\n",
    "        bottom_right_clicked=True"
   ]
  },
  {
   "cell_type": "code",
   "execution_count": 6,
   "metadata": {},
   "outputs": [],
   "source": [
    "# make pt1,pt2(gv) as 0\n",
    "pt1=(0,0)\n",
    "pt2=(0,0)\n",
    "# keep trackers false\n",
    "top_left_clicked=False\n",
    "bottom_right_clicked=False\n"
   ]
  },
  {
   "cell_type": "code",
   "execution_count": 7,
   "metadata": {},
   "outputs": [],
   "source": [
    "# taking a video\n",
    "cap=cv2.VideoCapture(0)\n",
    "cv2.namedWindow('Test')\n",
    "cv2.setMouseCallback('Test',rectangle)\n",
    "\n",
    "while True:\n",
    "    ret,frame=cap.read()\n",
    "    if top_left_clicked == True:\n",
    "        cv2.circle(frame,center=pt1,radius=5,color=(255,0,255),thickness=5)\n",
    "    if top_left_clicked == True & bottom_right_clicked == True:\n",
    "        cv2.rectangle(frame,pt1,pt2,(0,0,255),3)\n",
    "    cv2.imshow('frame',frame)\n",
    "    if cv2.waitKey(3) & 0xFF ==27:\n",
    "        break;\n",
    "        \n",
    "cap.release()\n",
    "cv2.destroyAllWindows()"
   ]
  },
  {
   "cell_type": "markdown",
   "metadata": {},
   "source": [
    "### Interactive Drawing Part-  2"
   ]
  },
  {
   "cell_type": "code",
   "execution_count": 8,
   "metadata": {},
   "outputs": [],
   "source": [
    "import cv2"
   ]
  },
  {
   "cell_type": "code",
   "execution_count": 9,
   "metadata": {},
   "outputs": [],
   "source": [
    "def draw_circle(event,x,y,flags,param):\n",
    "    global center,clicked\n",
    "    \n",
    "    if event == cv2.EVENT_LBUTTONDOWN:\n",
    "        center=(x,y)\n",
    "        clicked = False\n",
    "    if event == cv2.EVENT_LBUTTONUP:\n",
    "        clicked = True"
   ]
  },
  {
   "cell_type": "code",
   "execution_count": 10,
   "metadata": {},
   "outputs": [],
   "source": [
    "center = (0,0)\n",
    "clicked = False"
   ]
  },
  {
   "cell_type": "code",
   "execution_count": 11,
   "metadata": {},
   "outputs": [],
   "source": [
    "cap = cv2.VideoCapture(0)\n",
    "cv2.namedWindow('Test')\n",
    "cv2.setMouseCallback('Test',draw_circle)\n",
    "while True:\n",
    "    ret,frame = cap.read()\n",
    "    if clicked == True:\n",
    "        cv2.circle(frame,center=center,radius=50,color=(255,0,255),thickness=3)\n",
    "    cv2.imshow('Testing',frame)\n",
    "    \n",
    "    if cv2.waitKey(5) & 0XFF == 27:\n",
    "        break;\n",
    "cap.release()\n",
    "cv2.destroyAllWindows()"
   ]
  },
  {
   "cell_type": "markdown",
   "metadata": {},
   "source": [
    "### Face Recognition"
   ]
  },
  {
   "cell_type": "code",
   "execution_count": 8,
   "metadata": {},
   "outputs": [
    {
     "name": "stderr",
     "output_type": "stream",
     "text": [
      "UsageError: Line magic function `%maatplotlib` not found.\n"
     ]
    }
   ],
   "source": [
    "import cv2\n",
    "import numpy as np\n",
    "import matplotlib.pyplot as plt\n",
    "%maatplotlib inline"
   ]
  },
  {
   "cell_type": "code",
   "execution_count": 12,
   "metadata": {},
   "outputs": [],
   "source": [
    "face_detection = cv2.CascadeClassifier('haarcascade_frontalface_default.xml')"
   ]
  },
  {
   "cell_type": "code",
   "execution_count": 13,
   "metadata": {},
   "outputs": [],
   "source": [
    "def detect_face(img):\n",
    "    face_img = img.copy()\n",
    "    face_rectangle = face_cascade.detectMultiScale(face_img)\n",
    "    for(x,y,w,h) in face_rectangle:\n",
    "        cv2.rectangle(frame,(x,y),(x+w,y+h)(255,255,255),10)\n",
    "    return face_img"
   ]
  },
  {
   "cell_type": "code",
   "execution_count": 14,
   "metadata": {},
   "outputs": [],
   "source": [
    "cap = cv2.VideoCapture(0)\n",
    "\n",
    "while True:\n",
    "    ret,frame = cap.read()\n",
    "    cv2.imshow('Face Detection Video',frame)\n",
    "    if cv2.waitKey(3) & 0XFF ==27:\n",
    "        break\n",
    "cap.release()\n",
    "cv2.destroyAllWindows()"
   ]
  }
 ],
 "metadata": {
  "kernelspec": {
   "display_name": "Python 3",
   "language": "python",
   "name": "python3"
  },
  "language_info": {
   "codemirror_mode": {
    "name": "ipython",
    "version": 3
   },
   "file_extension": ".py",
   "mimetype": "text/x-python",
   "name": "python",
   "nbconvert_exporter": "python",
   "pygments_lexer": "ipython3",
   "version": "3.7.6"
  }
 },
 "nbformat": 4,
 "nbformat_minor": 4
}
